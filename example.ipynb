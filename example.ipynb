{
 "cells": [
  {
   "cell_type": "code",
   "execution_count": 1,
   "metadata": {},
   "outputs": [],
   "source": [
    "import os\n",
    "import pickle\n",
    "import src.main as lc\n",
    "import torch"
   ]
  },
  {
   "cell_type": "code",
   "execution_count": 7,
   "metadata": {},
   "outputs": [],
   "source": [
    "root = \"example\"\n",
    "model_name = \"redandblack-d8-w256\"\n",
    "target_frame_list = list(range(1450, 1455))\n",
    "\n",
    "model_dir = f\"{root}/{model_name}\"\n",
    "\n",
    "COMPRESSED_SAVELOC = f\"{model_dir}/compressed-test\"\n",
    "DECOMPRESSED_SAVELOC = f\"{model_dir}/decompressed-test\"\n",
    "\n",
    "\n",
    "'''\n",
    "For PyTorch version of NeRF, the checkpoint saves the following: \n",
    "- network_fn_state_dict: coarse network\n",
    "- network_fine_state_dict: fine network\n",
    "- optimizer_state_dict: optimizer\n",
    "We only need the fine network for compression\n",
    "'''\n",
    "dict_name = \"network_fine_state_dict\"\n",
    "BASE_DICT = torch.load(f\"{model_dir}/{target_frame_list[0]}.tar\", map_location = torch.device('cpu'))[dict_name] # Base dictionary (for decompressor to understand structure of the model)\n",
    "\n",
    "lc.dict_name = dict_name\n",
    "lc.is_float16 = False # flag setting for float16"
   ]
  },
  {
   "cell_type": "code",
   "execution_count": 8,
   "metadata": {},
   "outputs": [
    {
     "name": "stdout",
     "output_type": "stream",
     "text": [
      "Delta Compression on: 1451.tar\n",
      "Delta Compression on: 1452.tar\n",
      "Delta Compression on: 1453.tar\n",
      "Delta Compression on: 1454.tar\n",
      "Saving Compressed Format: 1450.tar\n",
      "Saving Compressed Format: 1451.tar\n",
      "Saving Compressed Format: 1452.tar\n",
      "Saving Compressed Format: 1453.tar\n",
      "Saving Compressed Format: 1454.tar\n"
     ]
    }
   ],
   "source": [
    "'''\n",
    "Compression\n",
    "'''\n",
    "num_bits = 2\n",
    "enc_model_list = [f\"{str(i)}.tar\" for i in target_frame_list]\n",
    "\n",
    "lc.compress_set(filename=model_dir, models=enc_model_list, saveloc = COMPRESSED_SAVELOC, num_bits=num_bits)"
   ]
  },
  {
   "cell_type": "code",
   "execution_count": 9,
   "metadata": {},
   "outputs": [
    {
     "name": "stdout",
     "output_type": "stream",
     "text": [
      "Decompressing for: compressed_1450.pt\n",
      "Decompressing for: compressed_1451.pt\n",
      "Decompressing for: compressed_1452.pt\n",
      "Decompressing for: compressed_1453.pt\n",
      "Decompressing for: compressed_1454.pt\n",
      "Saving Decompressed Model at: decompressed_1450.pt\n",
      "Saving Decompressed Model at: decompressed_1451.pt\n",
      "Saving Decompressed Model at: decompressed_1452.pt\n",
      "Saving Decompressed Model at: decompressed_1453.pt\n",
      "Saving Decompressed Model at: decompressed_1454.pt\n"
     ]
    }
   ],
   "source": [
    "'''\n",
    "Decompression\n",
    "'''\n",
    "dec_model_list = [f\"compressed_{str(i)}.pt\" for i in target_frame_list]\n",
    "\n",
    "lc.load_compressed_set(COMPRESSED_SAVELOC, dec_model_list, DECOMPRESSED_SAVELOC, BASE_DICT)\n",
    "\n",
    "\n",
    "'''\n",
    "1. Read the uncompressed network_fine_state_dict, \n",
    "2. Stich it with other dicts (network_fn_state_dict, optimizer_state_dict), save them as a checkpoint\n",
    "'''\n",
    "\n",
    "# iterate the DECOMPRESSED_SAVELOC to restore the checkpoints\n",
    "for file in sorted(os.listdir(DECOMPRESSED_SAVELOC)):\n",
    "    if file.endswith(\".pt\"):\n",
    "        file_path = os.path.join(DECOMPRESSED_SAVELOC, file)\n",
    "        # capture the digits of the filename\n",
    "        frame_no = int(''.join(filter(str.isdigit, file)))\n",
    "        decompressed_state_dict = lc.read_decompressed_state_dict(file_path)\n",
    "        decompressed_checkpoint = torch.load(f\"{model_dir}/{frame_no}.tar\", map_location = torch.device('cpu'))\n",
    "        decompressed_checkpoint[\"network_fine_state_dict\"].update(decompressed_state_dict)\n",
    "        torch.save(decompressed_checkpoint, f\"{DECOMPRESSED_SAVELOC}/{frame_no}.tar\")\n"
   ]
  },
  {
   "cell_type": "code",
   "execution_count": null,
   "metadata": {},
   "outputs": [],
   "source": []
  }
 ],
 "metadata": {
  "kernelspec": {
   "display_name": "vpcc",
   "language": "python",
   "name": "python3"
  },
  "language_info": {
   "codemirror_mode": {
    "name": "ipython",
    "version": 3
   },
   "file_extension": ".py",
   "mimetype": "text/x-python",
   "name": "python",
   "nbconvert_exporter": "python",
   "pygments_lexer": "ipython3",
   "version": "3.9.16"
  }
 },
 "nbformat": 4,
 "nbformat_minor": 2
}
